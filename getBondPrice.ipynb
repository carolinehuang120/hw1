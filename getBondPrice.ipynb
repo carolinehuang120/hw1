{
  "nbformat": 4,
  "nbformat_minor": 0,
  "metadata": {
    "colab": {
      "provenance": [],
      "include_colab_link": true
    },
    "kernelspec": {
      "name": "python3",
      "display_name": "Python 3"
    },
    "language_info": {
      "name": "python"
    }
  },
  "cells": [
    {
      "cell_type": "markdown",
      "metadata": {
        "id": "view-in-github",
        "colab_type": "text"
      },
      "source": [
        "<a href=\"https://colab.research.google.com/github/carolinehuang120/hw1/blob/main/getBondPrice.ipynb\" target=\"_parent\"><img src=\"https://colab.research.google.com/assets/colab-badge.svg\" alt=\"Open In Colab\"/></a>"
      ]
    },
    {
      "cell_type": "code",
      "execution_count": 36,
      "metadata": {
        "id": "SMC-bUUN9-gj"
      },
      "outputs": [],
      "source": [
        "#!/usr/bin/env python3\n",
        "# -*- coding: utf-8 -*-\n",
        "\"\"\"\n",
        "Created on Tue Jun 11 21:18:56 2024\n",
        "\n",
        "@author: xh2662\n",
        "\"\"\"\n",
        "\n",
        "# Identify yourself for grading\n",
        "\n",
        "def WhoAmI():\n",
        "  return('xh2662')\n"
      ]
    },
    {
      "cell_type": "code",
      "source": [
        "def getBondPrice(y, face, couponRate, m, ppy=1):\n",
        "    df0=1/(1+y/ppy)\n",
        "    dcf=0\n",
        "    df=1\n",
        "    cpn=couponRate*face/ppy\n",
        "    for i in range(1,m+1):\n",
        "        df*=df0\n",
        "        dcf+=cpn*df\n",
        "        print(i,df)\n",
        "\n",
        "    bondPrice=dcf+face*df\n",
        "\n",
        "    return(bondPrice)\n",
        "\n",
        "\n",
        "# Test values\n",
        "\n",
        "y = 0.03\n",
        "face = 2000000\n",
        "couponRate = 0.04\n",
        "m = 10\n",
        "ppy = 1\n",
        "ppy = 2\n",
        "#<no ppy value passed>\n",
        "\n",
        "getBondPrice(y, face, couponRate, m)"
      ],
      "metadata": {
        "id": "f-63d00O_KUn",
        "outputId": "b211c947-1446-4935-831d-a5bac643a59a",
        "colab": {
          "base_uri": "https://localhost:8080/"
        }
      },
      "execution_count": 29,
      "outputs": [
        {
          "output_type": "stream",
          "name": "stdout",
          "text": [
            "1 0.970873786407767\n",
            "2 0.9425959091337544\n",
            "3 0.9151416593531596\n",
            "4 0.888487047915689\n",
            "5 0.8626087843841641\n",
            "6 0.8374842566836544\n",
            "7 0.8130915113433539\n",
            "8 0.7894092343139358\n",
            "9 0.7664167323436271\n",
            "10 0.7440939148967253\n"
          ]
        },
        {
          "output_type": "execute_result",
          "data": {
            "text/plain": [
              "2170604.056735517"
            ]
          },
          "metadata": {},
          "execution_count": 29
        }
      ]
    },
    {
      "cell_type": "code",
      "source": [
        "def getBondPrice(y, face, couponRate, m, ppy=2):\n",
        "    bond_price = 0  # Initialize bond price\n",
        "\n",
        "    for p in range(1, m * ppy + 1):  # Total periods\n",
        "        pv = (1 + y / ppy) ** -p  # Present value factor\n",
        "        cf = (face * couponRate) / ppy  # Coupon payment per period\n",
        "        if p == m * ppy:  # Add face value at maturity\n",
        "            cf += face\n",
        "        pvcf = pv * cf  # Present value of cash flow\n",
        "        bond_price += pvcf  # Accumulate total bond price\n",
        "\n",
        "    return bond_price\n",
        "\n",
        "# Test values\n",
        "y = 0.03  # Yield to maturity\n",
        "face = 2000000  # Face value\n",
        "couponRate = 0.04  # Coupon rate\n",
        "m = 10  # Maturity in years\n",
        "ppy = 2  # Payments per year\n",
        "\n",
        "# Calculate bond price\n",
        "bond_price = getBondPrice(y, face, couponRate, m, ppy)\n",
        "\n",
        "# Display result\n",
        "print(\"Bond Price: $\", format(bond_price, \",.2f\"))\n"
      ],
      "metadata": {
        "id": "vJ7n5vBOLKZh",
        "outputId": "b34dc6a4-a22e-45ce-98b3-afa1ab26f2bc",
        "colab": {
          "base_uri": "https://localhost:8080/"
        }
      },
      "execution_count": 33,
      "outputs": [
        {
          "output_type": "stream",
          "name": "stdout",
          "text": [
            "Bond Price: $ 2,171,686.39\n"
          ]
        }
      ]
    },
    {
      "cell_type": "code",
      "source": [
        "def getBondDuration(y, face, couponRate, m, ppy=1):\n",
        "    # Initialize lists for table\n",
        "    t_values = list(range(1, m + 1))\n",
        "    pv_values = [(1 / (1 + y) ** t) for t in t_values]  # Present value factors\n",
        "    cf_values = [face * couponRate] * (m - 1) + [face * (1 + couponRate)]  # Cash flows\n",
        "    pvcf_values = [cf * pv for cf, pv in zip(cf_values, pv_values)]  # Present values of CFs\n",
        "    w_values = pvcf_values  # Weights are the same as PVCF values\n",
        "\n",
        "    # Calculate total present value sum and weighted sum\n",
        "    total_pv = sum(pvcf_values)\n",
        "    pvcf_weighted_sum = sum(t * pvcf for t, pvcf in zip(t_values, pvcf_values))\n",
        "\n",
        "    # Compute bond duration\n",
        "    bond_duration = pvcf_weighted_sum / total_pv\n",
        "\n",
        "    # Create a table structure for reference\n",
        "    bond_table = {\n",
        "        \"t\": t_values,\n",
        "        \"pv\": pv_values,\n",
        "        \"cf\": cf_values,\n",
        "        \"pvcf\": pvcf_values,\n",
        "        \"w\": w_values\n",
        "    }\n",
        "\n",
        "    return bond_duration, bond_table\n",
        "\n",
        "# Test values\n",
        "y = 0.03  # Yield to maturity\n",
        "face = 2000000  # Face value\n",
        "couponRate = 0.04  # Coupon rate\n",
        "m = 10  # Maturity in years\n",
        "ppy = 1  # Payments per year\n",
        "\n",
        "# Calculate bond duration and generate table\n",
        "bond_duration, bond_table = getBondDuration(y, face, couponRate, m, ppy)\n",
        "\n",
        "# Display results\n",
        "print(\"Bond Duration:\", bond_duration)\n",
        "for key, values in bond_table.items():\n",
        "    print(f\"{key}: {values}\")\n"
      ],
      "metadata": {
        "id": "-H_TWTIGCCjc",
        "outputId": "143b0711-1be0-484e-a289-61b64e9c1ef3",
        "colab": {
          "base_uri": "https://localhost:8080/"
        }
      },
      "execution_count": 30,
      "outputs": [
        {
          "output_type": "stream",
          "name": "stdout",
          "text": [
            "Bond Duration: 8.508690304459575\n",
            "t: [1, 2, 3, 4, 5, 6, 7, 8, 9, 10]\n",
            "pv: [0.970873786407767, 0.9425959091337544, 0.9151416593531596, 0.8884870479156888, 0.8626087843841639, 0.8374842566836542, 0.8130915113433536, 0.7894092343139355, 0.7664167323436267, 0.7440939148967249]\n",
            "cf: [80000.0, 80000.0, 80000.0, 80000.0, 80000.0, 80000.0, 80000.0, 80000.0, 80000.0, 2080000.0]\n",
            "pvcf: [77669.90291262136, 75407.67273070035, 73211.33274825277, 71078.9638332551, 69008.70275073311, 66998.74053469233, 65047.32090746828, 63152.73874511484, 61313.338587490136, 1547715.342985188]\n",
            "w: [77669.90291262136, 75407.67273070035, 73211.33274825277, 71078.9638332551, 69008.70275073311, 66998.74053469233, 65047.32090746828, 63152.73874511484, 61313.338587490136, 1547715.342985188]\n"
          ]
        }
      ]
    },
    {
      "cell_type": "code",
      "source": [
        "def getBondPrice_E(face, couponRate, times, yc):\n",
        "    # Initialize bond price calculation\n",
        "    pvcf_sum = 0  # Sum of present value cash flows\n",
        "\n",
        "    for t, rate in zip(times, yc):\n",
        "        pv = (1 / (1 + rate) ** t)  # Present value factor\n",
        "        cf = face * couponRate  # Coupon payment\n",
        "        if t == max(times):\n",
        "            cf += face  # Add face value at maturity\n",
        "        pvcf = pv * cf  # Present value of cash flow\n",
        "        pvcf_sum += pvcf  # Accumulate PVCF sum\n",
        "\n",
        "    # Compute bond price using the last PV value from times\n",
        "    bond_price = pvcf_sum\n",
        "    return bond_price\n",
        "\n",
        "# Test values\n",
        "yc = [0.010, 0.015, 0.020, 0.025, 0.030]  # Yield curve\n",
        "times = [1, 2, 3, 4, 5]  # Time periods\n",
        "face = 2000000  # Face value\n",
        "couponRate = 0.04  # Coupon rate\n",
        "\n",
        "# Calculate bond price\n",
        "bond_price_z = getBondPrice_Z(face, couponRate, times, yc)\n",
        "\n",
        "# Display result\n",
        "print(\"Bond Price E: $\", format(bond_price_z, \",.2f\"))\n",
        "\n"
      ],
      "metadata": {
        "id": "zO4i4tJLCJPR",
        "outputId": "4a0cef05-b7c4-4683-b737-3dddc236cd3d",
        "colab": {
          "base_uri": "https://localhost:8080/"
        }
      },
      "execution_count": 31,
      "outputs": [
        {
          "output_type": "stream",
          "name": "stdout",
          "text": [
            "Bond Price E: $ 2,098,948.97\n"
          ]
        }
      ]
    },
    {
      "cell_type": "code",
      "source": [
        "def getBondPrice_Z(face, couponRate, times, yc):\n",
        "    # Initialize bond price calculation\n",
        "    pvcf_sum = 0  # Sum of present value cash flows\n",
        "\n",
        "    for t, rate in zip(times, yc):\n",
        "        pv = (1 / (1 + rate) ** t)  # Present value factor\n",
        "        cf = face * couponRate  # Coupon payment\n",
        "        if t == max(times):\n",
        "            cf += face  # Add face value at maturity\n",
        "        pvcf = pv * cf  # Present value of cash flow\n",
        "        pvcf_sum += pvcf  # Accumulate PVCF sum\n",
        "\n",
        "    # Compute bond price\n",
        "    bond_price = pvcf_sum\n",
        "    return bond_price\n",
        "\n",
        "# Test values\n",
        "yc = [0.010, 0.015, 0.020, 0.025, 0.030]  # Yield curve\n",
        "times = [1, 1.5, 3, 4, 7]  # Time periods\n",
        "face = 2000000  # Face value\n",
        "couponRate = 0.04  # Coupon rate\n",
        "\n",
        "# Calculate bond price\n",
        "bond_price_z = getBondPrice_Z(face, couponRate, times, yc)\n",
        "\n",
        "# Display result\n",
        "print(\"Bond Price Z: $\", format(bond_price_z, \",.2f\"))\n"
      ],
      "metadata": {
        "colab": {
          "base_uri": "https://localhost:8080/"
        },
        "id": "Xn7jUpQ-IeRw",
        "outputId": "4b618007-844d-427a-a373-b9b8c01bf7f1"
      },
      "execution_count": 16,
      "outputs": [
        {
          "output_type": "stream",
          "name": "stdout",
          "text": [
            "Bond Price Z: $ 1,996,533.27\n"
          ]
        }
      ]
    },
    {
      "cell_type": "code",
      "source": [
        "def FizzBuzz(start, finish):\n",
        "    outlist = []\n",
        "    for i in range(start, finish + 1):\n",
        "        if i % 3 == 0 and i % 5 == 0:\n",
        "            outlist.append(\"fizzbuzz\")\n",
        "        elif i % 3 == 0:\n",
        "            outlist.append(\"fizz\")\n",
        "        elif i % 5 == 0:\n",
        "            outlist.append(\"buzz\")\n",
        "        else:\n",
        "            outlist.append(str(i))\n",
        "    return outlist\n",
        "\n",
        "# Test the function\n",
        "start = 1\n",
        "finish = 15\n",
        "result = FizzBuzz(start, finish)\n",
        "\n",
        "# Display result\n",
        "print(result)\n"
      ],
      "metadata": {
        "colab": {
          "base_uri": "https://localhost:8080/"
        },
        "id": "FMclcEjBIpL2",
        "outputId": "a9509ee6-6bc2-468c-c1d0-4ac2ac172c99"
      },
      "execution_count": 17,
      "outputs": [
        {
          "output_type": "stream",
          "name": "stdout",
          "text": [
            "['1', '2', 'fizz', '4', 'buzz', 'fizz', '7', '8', 'fizz', 'buzz', '11', 'fizz', '13', '14', 'fizzbuzz']\n"
          ]
        }
      ]
    },
    {
      "cell_type": "code",
      "source": [
        "import numpy as np\n",
        "\n",
        "# Define the horizontal and vertical matrices\n",
        "horizontal_matrix = np.array([1, 2, 3])\n",
        "vertical_matrix = np.array([1, 4, 7])\n",
        "# Compute the dot product\n",
        "result = np.dot(horizontal_matrix, vertical_matrix)\n",
        "\n",
        "print(\"The result is:\", result)\n"
      ],
      "metadata": {
        "colab": {
          "base_uri": "https://localhost:8080/"
        },
        "id": "AqFDpqc7JYvY",
        "outputId": "e5a159a6-5bad-4e21-8946-45d579fb797c"
      },
      "execution_count": 24,
      "outputs": [
        {
          "output_type": "stream",
          "name": "stdout",
          "text": [
            "The result is: 30\n"
          ]
        }
      ]
    },
    {
      "cell_type": "code",
      "source": [
        "import numpy as np\n",
        "\n",
        "# Define the horizontal matrix (1x3)\n",
        "horizontal_matrix = np.array([1, 2, 3])\n",
        "\n",
        "# Define the 3x3 matrix\n",
        "matrix_3x3 = np.array([\n",
        "    [1, 2, 3],\n",
        "    [4, 5, 6],\n",
        "    [7, 8, 9]\n",
        "])\n",
        "\n",
        "# Perform matrix multiplication\n",
        "result = np.dot(horizontal_matrix, matrix_3x3)\n",
        "\n",
        "# Print the result\n",
        "print(\"The resulting horizontal matrix:\", result)"
      ],
      "metadata": {
        "colab": {
          "base_uri": "https://localhost:8080/"
        },
        "id": "-z21IoTGJsUD",
        "outputId": "0c858c6f-cdb1-4bc7-85a8-b8d9a7814df1"
      },
      "execution_count": 32,
      "outputs": [
        {
          "output_type": "stream",
          "name": "stdout",
          "text": [
            "The resulting horizontal matrix: [30 36 42]\n"
          ]
        }
      ]
    }
  ]
}